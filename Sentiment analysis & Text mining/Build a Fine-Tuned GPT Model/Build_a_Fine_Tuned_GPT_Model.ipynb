{
  "nbformat": 4,
  "nbformat_minor": 0,
  "metadata": {
    "colab": {
      "provenance": []
    },
    "kernelspec": {
      "name": "python3",
      "display_name": "Python 3"
    },
    "language_info": {
      "name": "python"
    }
  },
  "cells": [
    {
      "cell_type": "markdown",
      "source": [
        "# Build a Fine-Tuned GPT Model"
      ],
      "metadata": {
        "id": "w25qXylDPUqo"
      }
    },
    {
      "cell_type": "markdown",
      "source": [
        "Use the techniques discussed in class to build a fine-tuned GPT model using the OpenAI API."
      ],
      "metadata": {
        "id": "DC9pd9dRPY5f"
      }
    },
    {
      "cell_type": "markdown",
      "source": [
        "**Installing and importing the openai package**"
      ],
      "metadata": {
        "id": "OaXB0cArVjwK"
      }
    },
    {
      "cell_type": "code",
      "execution_count": null,
      "metadata": {
        "id": "5v0J1LroPAKO",
        "colab": {
          "base_uri": "https://localhost:8080/"
        },
        "outputId": "523c46d8-9cef-4c7f-a9f4-be1372885ff9"
      },
      "outputs": [
        {
          "output_type": "stream",
          "name": "stdout",
          "text": [
            "Looking in indexes: https://pypi.org/simple, https://us-python.pkg.dev/colab-wheels/public/simple/\n",
            "Requirement already satisfied: openai in /usr/local/lib/python3.9/dist-packages (0.27.4)\n",
            "Requirement already satisfied: aiohttp in /usr/local/lib/python3.9/dist-packages (from openai) (3.8.4)\n",
            "Requirement already satisfied: requests>=2.20 in /usr/local/lib/python3.9/dist-packages (from openai) (2.27.1)\n",
            "Requirement already satisfied: tqdm in /usr/local/lib/python3.9/dist-packages (from openai) (4.65.0)\n",
            "Requirement already satisfied: idna<4,>=2.5 in /usr/local/lib/python3.9/dist-packages (from requests>=2.20->openai) (3.4)\n",
            "Requirement already satisfied: charset-normalizer~=2.0.0 in /usr/local/lib/python3.9/dist-packages (from requests>=2.20->openai) (2.0.12)\n",
            "Requirement already satisfied: certifi>=2017.4.17 in /usr/local/lib/python3.9/dist-packages (from requests>=2.20->openai) (2022.12.7)\n",
            "Requirement already satisfied: urllib3<1.27,>=1.21.1 in /usr/local/lib/python3.9/dist-packages (from requests>=2.20->openai) (1.26.15)\n",
            "Requirement already satisfied: attrs>=17.3.0 in /usr/local/lib/python3.9/dist-packages (from aiohttp->openai) (22.2.0)\n",
            "Requirement already satisfied: yarl<2.0,>=1.0 in /usr/local/lib/python3.9/dist-packages (from aiohttp->openai) (1.8.2)\n",
            "Requirement already satisfied: async-timeout<5.0,>=4.0.0a3 in /usr/local/lib/python3.9/dist-packages (from aiohttp->openai) (4.0.2)\n",
            "Requirement already satisfied: multidict<7.0,>=4.5 in /usr/local/lib/python3.9/dist-packages (from aiohttp->openai) (6.0.4)\n",
            "Requirement already satisfied: frozenlist>=1.1.1 in /usr/local/lib/python3.9/dist-packages (from aiohttp->openai) (1.3.3)\n",
            "Requirement already satisfied: aiosignal>=1.1.2 in /usr/local/lib/python3.9/dist-packages (from aiohttp->openai) (1.3.1)\n"
          ]
        }
      ],
      "source": [
        "!pip install openai"
      ]
    },
    {
      "cell_type": "code",
      "source": [
        "import openai"
      ],
      "metadata": {
        "id": "A2xru1ao9V1y"
      },
      "execution_count": null,
      "outputs": []
    },
    {
      "cell_type": "markdown",
      "source": [
        "**We set our OpenAI API key using openai.api_key = api_key, where api_key is the value obtained from the uploaded api_key.txt file.**"
      ],
      "metadata": {
        "id": "cAb1rAATWME_"
      }
    },
    {
      "cell_type": "code",
      "source": [
        "from google.colab import files\n",
        "uploaded_files = files.upload()\n",
        "api_key = uploaded_files['api_key.txt'].decode()"
      ],
      "metadata": {
        "id": "BMf3Agnr_NIe",
        "colab": {
          "base_uri": "https://localhost:8080/",
          "height": 73
        },
        "outputId": "a4a647e3-fb14-4f09-c73d-64f942d39c55"
      },
      "execution_count": null,
      "outputs": [
        {
          "output_type": "display_data",
          "data": {
            "text/plain": [
              "<IPython.core.display.HTML object>"
            ],
            "text/html": [
              "\n",
              "     <input type=\"file\" id=\"files-1ec53bf7-e011-41e1-8cbd-5bd35afe95e7\" name=\"files[]\" multiple disabled\n",
              "        style=\"border:none\" />\n",
              "     <output id=\"result-1ec53bf7-e011-41e1-8cbd-5bd35afe95e7\">\n",
              "      Upload widget is only available when the cell has been executed in the\n",
              "      current browser session. Please rerun this cell to enable.\n",
              "      </output>\n",
              "      <script>// Copyright 2017 Google LLC\n",
              "//\n",
              "// Licensed under the Apache License, Version 2.0 (the \"License\");\n",
              "// you may not use this file except in compliance with the License.\n",
              "// You may obtain a copy of the License at\n",
              "//\n",
              "//      http://www.apache.org/licenses/LICENSE-2.0\n",
              "//\n",
              "// Unless required by applicable law or agreed to in writing, software\n",
              "// distributed under the License is distributed on an \"AS IS\" BASIS,\n",
              "// WITHOUT WARRANTIES OR CONDITIONS OF ANY KIND, either express or implied.\n",
              "// See the License for the specific language governing permissions and\n",
              "// limitations under the License.\n",
              "\n",
              "/**\n",
              " * @fileoverview Helpers for google.colab Python module.\n",
              " */\n",
              "(function(scope) {\n",
              "function span(text, styleAttributes = {}) {\n",
              "  const element = document.createElement('span');\n",
              "  element.textContent = text;\n",
              "  for (const key of Object.keys(styleAttributes)) {\n",
              "    element.style[key] = styleAttributes[key];\n",
              "  }\n",
              "  return element;\n",
              "}\n",
              "\n",
              "// Max number of bytes which will be uploaded at a time.\n",
              "const MAX_PAYLOAD_SIZE = 100 * 1024;\n",
              "\n",
              "function _uploadFiles(inputId, outputId) {\n",
              "  const steps = uploadFilesStep(inputId, outputId);\n",
              "  const outputElement = document.getElementById(outputId);\n",
              "  // Cache steps on the outputElement to make it available for the next call\n",
              "  // to uploadFilesContinue from Python.\n",
              "  outputElement.steps = steps;\n",
              "\n",
              "  return _uploadFilesContinue(outputId);\n",
              "}\n",
              "\n",
              "// This is roughly an async generator (not supported in the browser yet),\n",
              "// where there are multiple asynchronous steps and the Python side is going\n",
              "// to poll for completion of each step.\n",
              "// This uses a Promise to block the python side on completion of each step,\n",
              "// then passes the result of the previous step as the input to the next step.\n",
              "function _uploadFilesContinue(outputId) {\n",
              "  const outputElement = document.getElementById(outputId);\n",
              "  const steps = outputElement.steps;\n",
              "\n",
              "  const next = steps.next(outputElement.lastPromiseValue);\n",
              "  return Promise.resolve(next.value.promise).then((value) => {\n",
              "    // Cache the last promise value to make it available to the next\n",
              "    // step of the generator.\n",
              "    outputElement.lastPromiseValue = value;\n",
              "    return next.value.response;\n",
              "  });\n",
              "}\n",
              "\n",
              "/**\n",
              " * Generator function which is called between each async step of the upload\n",
              " * process.\n",
              " * @param {string} inputId Element ID of the input file picker element.\n",
              " * @param {string} outputId Element ID of the output display.\n",
              " * @return {!Iterable<!Object>} Iterable of next steps.\n",
              " */\n",
              "function* uploadFilesStep(inputId, outputId) {\n",
              "  const inputElement = document.getElementById(inputId);\n",
              "  inputElement.disabled = false;\n",
              "\n",
              "  const outputElement = document.getElementById(outputId);\n",
              "  outputElement.innerHTML = '';\n",
              "\n",
              "  const pickedPromise = new Promise((resolve) => {\n",
              "    inputElement.addEventListener('change', (e) => {\n",
              "      resolve(e.target.files);\n",
              "    });\n",
              "  });\n",
              "\n",
              "  const cancel = document.createElement('button');\n",
              "  inputElement.parentElement.appendChild(cancel);\n",
              "  cancel.textContent = 'Cancel upload';\n",
              "  const cancelPromise = new Promise((resolve) => {\n",
              "    cancel.onclick = () => {\n",
              "      resolve(null);\n",
              "    };\n",
              "  });\n",
              "\n",
              "  // Wait for the user to pick the files.\n",
              "  const files = yield {\n",
              "    promise: Promise.race([pickedPromise, cancelPromise]),\n",
              "    response: {\n",
              "      action: 'starting',\n",
              "    }\n",
              "  };\n",
              "\n",
              "  cancel.remove();\n",
              "\n",
              "  // Disable the input element since further picks are not allowed.\n",
              "  inputElement.disabled = true;\n",
              "\n",
              "  if (!files) {\n",
              "    return {\n",
              "      response: {\n",
              "        action: 'complete',\n",
              "      }\n",
              "    };\n",
              "  }\n",
              "\n",
              "  for (const file of files) {\n",
              "    const li = document.createElement('li');\n",
              "    li.append(span(file.name, {fontWeight: 'bold'}));\n",
              "    li.append(span(\n",
              "        `(${file.type || 'n/a'}) - ${file.size} bytes, ` +\n",
              "        `last modified: ${\n",
              "            file.lastModifiedDate ? file.lastModifiedDate.toLocaleDateString() :\n",
              "                                    'n/a'} - `));\n",
              "    const percent = span('0% done');\n",
              "    li.appendChild(percent);\n",
              "\n",
              "    outputElement.appendChild(li);\n",
              "\n",
              "    const fileDataPromise = new Promise((resolve) => {\n",
              "      const reader = new FileReader();\n",
              "      reader.onload = (e) => {\n",
              "        resolve(e.target.result);\n",
              "      };\n",
              "      reader.readAsArrayBuffer(file);\n",
              "    });\n",
              "    // Wait for the data to be ready.\n",
              "    let fileData = yield {\n",
              "      promise: fileDataPromise,\n",
              "      response: {\n",
              "        action: 'continue',\n",
              "      }\n",
              "    };\n",
              "\n",
              "    // Use a chunked sending to avoid message size limits. See b/62115660.\n",
              "    let position = 0;\n",
              "    do {\n",
              "      const length = Math.min(fileData.byteLength - position, MAX_PAYLOAD_SIZE);\n",
              "      const chunk = new Uint8Array(fileData, position, length);\n",
              "      position += length;\n",
              "\n",
              "      const base64 = btoa(String.fromCharCode.apply(null, chunk));\n",
              "      yield {\n",
              "        response: {\n",
              "          action: 'append',\n",
              "          file: file.name,\n",
              "          data: base64,\n",
              "        },\n",
              "      };\n",
              "\n",
              "      let percentDone = fileData.byteLength === 0 ?\n",
              "          100 :\n",
              "          Math.round((position / fileData.byteLength) * 100);\n",
              "      percent.textContent = `${percentDone}% done`;\n",
              "\n",
              "    } while (position < fileData.byteLength);\n",
              "  }\n",
              "\n",
              "  // All done.\n",
              "  yield {\n",
              "    response: {\n",
              "      action: 'complete',\n",
              "    }\n",
              "  };\n",
              "}\n",
              "\n",
              "scope.google = scope.google || {};\n",
              "scope.google.colab = scope.google.colab || {};\n",
              "scope.google.colab._files = {\n",
              "  _uploadFiles,\n",
              "  _uploadFilesContinue,\n",
              "};\n",
              "})(self);\n",
              "</script> "
            ]
          },
          "metadata": {}
        },
        {
          "output_type": "stream",
          "name": "stdout",
          "text": [
            "Saving api_key.txt to api_key (2).txt\n"
          ]
        }
      ]
    },
    {
      "cell_type": "code",
      "source": [
        "openai.api_key = api_key"
      ],
      "metadata": {
        "id": "WA2XwLue9YWa"
      },
      "execution_count": null,
      "outputs": []
    },
    {
      "cell_type": "code",
      "source": [
        "import os\n",
        "os.environ['OPENAI_API_KEY'] = openai.api_key"
      ],
      "metadata": {
        "id": "sU089SbW9aRB"
      },
      "execution_count": null,
      "outputs": []
    },
    {
      "cell_type": "markdown",
      "source": [
        "**Uses the OpenAI API to generate text in response to a prompt.**"
      ],
      "metadata": {
        "id": "Ue9Ri9osWx3H"
      }
    },
    {
      "cell_type": "code",
      "source": [
        "prompt = 'best place to have Maharashtrian food in Toronto'\n",
        "response = openai.Completion.create(\n",
        "  model=\"text-ada-001\",\n",
        "  prompt=prompt,\n",
        "  temperature=0.7,\n",
        "  max_tokens=256,\n",
        "  top_p=1,\n",
        "  frequency_penalty=0,\n",
        "  presence_penalty=0\n",
        ")"
      ],
      "metadata": {
        "id": "zsRY76w19cFM"
      },
      "execution_count": null,
      "outputs": []
    },
    {
      "cell_type": "code",
      "source": [
        "response['choices'][0]['text'].strip()"
      ],
      "metadata": {
        "id": "wOCiKD849g5i",
        "colab": {
          "base_uri": "https://localhost:8080/",
          "height": 53
        },
        "outputId": "0c000d44-edc4-4e0e-9bf9-f7fb4cd7f2bd"
      },
      "execution_count": null,
      "outputs": [
        {
          "output_type": "execute_result",
          "data": {
            "text/plain": [
              "'The best place to have Maharashtrian food in Toronto is likely the Maharashtrian restaurant in the city. This restaurant has a wide variety of Maharashtrian foods to choose from.'"
            ],
            "application/vnd.google.colaboratory.intrinsic+json": {
              "type": "string"
            }
          },
          "metadata": {},
          "execution_count": 59
        }
      ]
    },
    {
      "cell_type": "markdown",
      "source": [
        "**Creates a file named training_data and writes two JSON objects to it.**\n",
        "\n",
        "**We have created training data for \"Cooking Instructions and Recipes\"**"
      ],
      "metadata": {
        "id": "opS2EzG4XHH9"
      }
    },
    {
      "cell_type": "code",
      "source": [
        "with open('training_data','w') as f:\n",
        "  f.write('{\"prompt\": \"What is a recipe for spaghetti and meatballs?\", \"completion\": \"Ingredients: ground beef, breadcrumbs, milk, egg, garlic, onion, salt, pepper, olive oil, spaghetti, canned tomatoes, basil. Directions: 1. Combine ground beef, breadcrumbs, milk, egg, garlic, onion, salt, and pepper in a bowl. Mix well and form into meatballs. 2. Heat olive oil in a large skillet over medium-high heat. Add meatballs and cook until browned on all sides. 3. Add canned tomatoes and basil to the skillet. Reduce heat to medium and simmer for 15-20 minutes. 4. Cook spaghetti according to package directions. 5. Serve meatballs and sauce over spaghetti. Enjoy!\"}\\n')\n",
        "  f.write('{\"prompt\": \"What is a recipe for chicken curry?\", \"completion\": \"Ingredients: chicken, onion, garlic, ginger, curry powder, coconut milk, tomato paste, salt, pepper, rice. Directions: 1. Heat oil in a large pot over medium heat. Add onion, garlic, and ginger. Cook until softened. 2. Add chicken and cook until browned on all sides. 3. Stir in curry powder and cook for 1-2 minutes. 4. Add coconut milk and tomato paste. Stir to combine. 5. Season with salt and pepper to taste. 6. Simmer for 15-20 minutes. 7. Serve over rice. Enjoy!\"}\\n')\n",
        "  f.write('{\"prompt\": \"What is a recipe for vegetarian chili?\", \"completion\": \"Ingredients: kidney beans, black beans, corn, onion, garlic, bell pepper, chili powder, cumin, tomato sauce, vegetable broth. Directions: 1. Heat oil in a large pot over medium heat. Add onion, garlic, and bell pepper. Cook until softened. 2. Add chili powder and cumin. Cook for 1-2 minutes. 3. Add kidney beans, black beans, corn, tomato sauce, and vegetable broth. Stir to combine. 4. Bring to a boil. 5. Reduce heat to low and simmer for 30-40 minutes. 6. Serve hot. Enjoy!\"}\\n')\n",
        "  f.write('{\"prompt\": \"What is a recipe for shrimp scampi?\", \"completion\": \"Ingredients: shrimp, garlic, lemon juice, white wine, butter, olive oil, parsley, salt, pepper, linguine. Directions: 1. Cook linguine according to package directions. Drain and set aside. 2. Heat olive oil and butter in a large skillet over medium-high heat. 3. Add shrimp and cook until pink. Remove from skillet and set aside. 4. Add garlic to the skillet and cook for 1-2 minutes. 5. Add white wine and lemon juice. Simmer for 2-3 minutes. 6. Season with salt and pepper to taste. 7. Add shrimp and linguine to the skillet. Toss to coat. 8. Garnish with parsley. Enjoy!\"}\\n')\n",
        "  f.write('{\"prompt\": \"What is a recipe for beef stew?\", \"completion\": \"Ingredients: beef, potatoes, carrots, onion, garlic, beef broth, tomato paste, flour, thyme, bay leaves, salt, pepper. Directions: 1. Heat oil in a large pot over medium heat. Add beef and cook until browned on all sides. 2. Add onion and garlic. Cook until softened. 3. Stir Serve hot. Enjoy!\"}\\n')\n",
        "  f.write('{\"prompt\": \"What is a recipe for chicken parmesan?\", \"completion\": \"Ingredients: chicken breasts, breadcrumbs, eggs, flour, garlic, mozzarella cheese, parmesan cheese, tomato sauce, spaghetti. Directions: 1. Preheat oven to 375 degrees F. 2. Coat chicken breasts in flour, then beaten eggs, and finally in breadcrumbs. 3. Heat oil in a large skillet over medium-high heat. 4. Add chicken and cook until browned on both sides. 5. Remove chicken and place in a baking dish. 6. Add tomato sauce, garlic, and mozzarella cheese to the skillet. 7. Simmer for 10-15 minutes. 8. Pour sauce over chicken in baking dish. 9. Sprinkle parmesan cheese over chicken. 10. Bake for 25-30 minutes. 11. Cook spaghetti according to package directions. 12. Serve chicken and sauce over spaghetti. Enjoy!\"}\\n')\n",
        "  f.write('{\"prompt\": \"What is a recipe for guacamole?\", \"completion\": \"Ingredients: avocados, tomato, onion, garlic, lime juice, cilantro, salt, pepper, tortilla chips. Directions: 1. Cut avocados in half and remove the pit. 2. Scoop out avocado flesh and place in a bowl. 3. Mash avocado with a fork. 4. Add tomato, onion, garlic, lime juice, cilantro, salt, and pepper. Mix well. 5. Serve with tortilla chips. Enjoy!\"}\\n')\n",
        "  f.write('{\"prompt\": \"What is a recipe for beef stir fry?\", \"completion\": \"Ingredients: beef, broccoli, onion, garlic, ginger, soy sauce, hoisin sauce, brown sugar, cornstarch, rice. Directions: 1. Cook rice according to package directions. 2. Heat oil in a large skillet over medium-high heat. 3. Add beef and cook until browned on all sides. 4. Add onion, garlic, and ginger. Cook for 1-2 minutes. 5. Add broccoli and stir to combine. 6. In a separate bowl, whisk together soy sauce, hoisin sauce, brown sugar, and cornstarch. 7. Pour sauce over beef and broccoli. 8. Stir to combine. 9. Simmer for 5-10 minutes. 10. Serve over rice. Enjoy!\"}\\n')\n",
        "  f.write('{\"prompt\": \"What is a recipe for mushroom risotto?\", \"completion\": \"Ingredients: arborio rice, mushrooms, onion, garlic, vegetable broth, white wine, parmesan cheese, butter, parsley, salt, pepper. Directions: 1. Heat vegetable broth in a small saucepan over low heat. 2. Melt butter in a large skillet over medium heat. 3. Add onion and garlic. Cook until softened. 4. Add mushrooms and cook until browned. 5. Add arborio rice and stir to coat. 6. Add white wine and simmer until absorbed. 7. Add 1 cup of broth at a time, stirring frequently and waiting for each addition to be absorbed before adding the next. 8. When all broth has been added and absorbed, stir in parmesan cheese and parsley. 9. Season with salt and pepper to taste. 10. Serve hot. Enjoy!\"}\\n')\n",
        "  f.write('{\"prompt\": \"What is a recipe for homemade pizza?\", \"completion\": \"Ingredients: pizza dough, tomato sauce, mozzarella cheese, toppings of your choice (e.g. pepperoni, mushrooms, peppers, onions). Directions: 1. Preheat oven to 425 degrees F. 2. Roll out pizza dough on a lightly floured surface. 3. Place dough on a greased pizza pan. 4. Spread tomato sauce over dough. 5. Sprinkle mozzarella cheese over sauce. 6. Add desired toppings. 7. Bake in preheated oven for 12-15 minutes, or until crust is golden brown and cheese is melted. 8. Remove from oven and let cool for a few minutes before slicing. Enjoy!\"}\\n')\n",
        "  f.write('{\"prompt\": \"What is a recipe for vegetable soup?\", \"completion\": \"Ingredients: onion, garlic, carrot, celery, potato, zucchini, canned tomatoes, vegetable broth, bay leaf, thyme, salt, pepper. Directions: 1. Heat oil in a large pot over medium heat. 2. Add onion and garlic. Cook until softened. 3. Add carrot, celery, and potato. Cook for 5-7 minutes. 4. Add zucchini and canned tomatoes. 5. Add vegetable broth, bay leaf, thyme, salt, and pepper. 6. Bring to a boil, then reduce heat and simmer for 20-30 minutes. 7. Remove bay leaf. 8.Serve hot.\"}\\n')\n",
        "  f.write('{\"prompt\": \"What is a recipe for chicken alfredo?\", \"completion\": \"Ingredients: fettuccine pasta, boneless chicken breasts, heavy cream, grated parmesan cheese, butter, garlic, salt, black pepper. Directions: 1. Cook pasta according to package directions. 2. Cut chicken breasts into small pieces and season with salt and pepper. 3. Melt butter in a large skillet over medium heat. 4. Add garlic and cook until fragrant. 5. Add chicken and cook until no longer pink. 6. Pour in heavy cream and stir. 7. Add grated parmesan cheese and stir until melted. 8. Drain pasta and add to skillet, tossing to coat. Serve hot.\"}\\n')\n",
        "  f.write('{\"prompt\": \"What is a recipe for avocado toast?\", \"completion\": \"Ingredients: bread, avocado, lime juice, salt, black pepper. Directions: 1. Toast bread in a toaster. 2. Cut avocado in half, remove pit, and scoop avocado into a bowl. 3. Mash avocado with a fork. 4. Add lime juice, salt, and black pepper to taste. 5. Spread avocado mixture onto toast. Serve immediately.\"}\\n')\n",
        "  f.write('{\"prompt\": \"What is a recipe for chicken noodle soup?\", \"completion\": \"Ingredients: chicken breast, egg noodles, onion, celery, carrot, garlic, chicken broth, salt, black pepper. Directions: 1. Cook egg noodles according to package directions. 2. Cut chicken breast into small pieces and season with salt and pepper. 3. Heat oil in a large pot over medium heat. 4. Add onion, celery, and carrot. Cook until softened. 5. Add garlic and cook until fragrant. 6. Add chicken broth and bring to a boil. 7. Add chicken and cooked noodles. 8. Simmer for 10 minutes. Serve hot.\"}\\n')\n",
        "  f.write('{\"prompt\": \"What is a recipe for spaghetti carbonara?\", \"completion\": \"Ingredients: spaghetti, bacon, egg yolks, grated parmesan cheese, garlic, salt, black pepper. Directions: 1. Cook spaghetti according to package directions. 2. Cut bacon into small pieces and cook in a skillet until crispy. 3. In a bowl, whisk together egg yolks, grated parmesan cheese, garlic, salt, and black pepper. 4. Drain spaghetti and add to skillet with bacon. 5. Pour egg yolk mixture over spaghetti and toss to coat. Serve hot.\"}\\n')\n",
        "  f.write('{\"prompt\": \"What is a recipe for vegetable stir-fry?\", \"completion\": \"Ingredients: mixed vegetables (such as bell peppers, onions, broccoli, carrots), garlic, soy sauce, honey, rice vinegar, sesame oil, cornstarch, salt, black pepper. Directions: 1. Cut vegetables into bite-sized pieces. 2. In a small bowl, whisk together garlic, soy sauce, honey, rice vinegar, sesame oil, cornstarch, salt, and black pepper. 3. Heat oil in a large skillet over high heat. 4. Add vegetables and stir-fry for 5-7 minutes, until tender. 5. Pour sauce over vegetables and stir to coat. Serve hot over rice.\"}\\n')\n",
        "  f.write('{\"prompt\": \"How do I make chocolate chip cookies?\", \"completion\": \"Ingredients: 2 1/4 cups all-purpose flour, 1 tsp baking soda, 1 tsp salt, 1 cup unsalted butter, 3/4 cup white sugar, 3/4 cup brown sugar, 2 large eggs, 1 tsp vanilla extract, 2 cups semisweet chocolate chips. Directions: 1. Preheat oven to 375 degrees F. 2. Combine flour, baking soda, and salt in a medium bowl. 3. In a large bowl, cream together butter, white sugar, and brown sugar until smooth. Beat in eggs one at a time, then stir in vanilla. Gradually mix in dry ingredients until just blended. 4. Stir in chocolate chips. 5. Drop rounded tablespoons of dough onto ungreased baking sheets. 6. Bake for 8-10 minutes, or until lightly browned. Cool on wire racks.\"}\\n')\n",
        "  f.write('{\"prompt\": \"What is a recipe for homemade pizza?\", \"completion\": \"Ingredients: 1 lb pizza dough, 1/2 cup pizza sauce, 2 cups shredded mozzarella cheese, 1/2 cup sliced pepperoni, 1/4 cup sliced black olives. Directions: 1. Preheat oven to 450 degrees F. 2. Roll out pizza dough on a floured surface until it reaches desired thickness. 3. Transfer dough to a greased pizza pan. 4. Spread pizza sauce over dough, leaving a 1-inch border around the edges. 5. Sprinkle shredded mozzarella cheese over sauce. 6. Arrange pepperoni and black olives on top of cheese. 7. Bake for 10-15 minutes, or until cheese is melted and crust is golden brown. Slice and serve.\"}\\n')\n",
        "  f.write('{\"prompt\": \"What is a recipe for chicken stir-fry?\", \"completion\": \"Ingredients: 1 lb boneless, skinless chicken breasts, sliced into strips, 2 tbsp vegetable oil, 2 cloves garlic, minced, 1 tbsp ginger, grated, 1 red bell pepper, sliced, 1 yellow onion, sliced, 1 cup broccoli florets, 1/4 cup soy sauce, 2 tbsp cornstarch, 2 tbsp water. Directions: 1. Heat oil in a large skillet over medium-high heat. 2. Add chicken and cook until browned on all sides, about 5 minutes. 3. Add garlic, ginger, bell pepper, onion, and broccoli to the skillet and stir-fry for 3-4 minutes. 4. In a small bowl, whisk together soy sauce, cornstarch, and water. 5. Pour sauce over chicken and vegetables and stir until everything is coated. 6. Cook for an additional 2-3 minutes, or until sauce has thickened. Serve hot over rice or noodles.\"}\\n')\n",
        "  f.write('{\"prompt\": \"What is a recipe for grilled cheese sandwich?\", \"completion\": \"Ingredients: 2 slices of bread, 2 slices of cheddar cheese, 2 tbsp butter. Directions: 1. Heat a non-stick skillet over medium heat. 2. Spread butter on one side of each slice of bread. 3. Place one slice of Serve hot over rice or noodles.\"}\\n')\n",
        "  f.write('{\"prompt\": \"How do I make spaghetti with meatballs?\", \"completion\": \"Ingredients: 1 lb ground beef, 1/2 cup breadcrumbs, 1/4 cup grated Parmesan cheese, 1 egg, 1 tsp salt, 1/4 tsp black pepper, 1 lb spaghetti, 2 cups marinara sauce. Directions: 1. Preheat oven to 375 degrees F. 2. In a large bowl, combine ground beef, breadcrumbs, Parmesan cheese, egg, salt, and pepper. Mix well. 3. Shape mixture into 1 1/2-inch meatballs. 4. Place meatballs on a baking sheet and bake for 15-20 minutes, or until browned and cooked through. 5. Cook spaghetti according to package instructions. Drain. 6. Heat marinara sauce in a large saucepan over medium heat. 7. Add cooked meatballs to the sauce and stir to coat. 8. Serve meatballs and sauce over spaghetti.\"}\\n')\n",
        "  f.write('{\"prompt\": \"What is a recipe for chicken fajitas?\", \"completion\": \"Ingredients: 1 lb boneless, skinless chicken breasts, sliced into strips, 1 green bell pepper, sliced, 1 red bell pepper, sliced, 1 yellow onion, sliced, 2 tbsp vegetable oil, 1 tbsp chili powder, 1 tsp cumin, 1/2 tsp garlic powder, 1/2 tsp salt, 1/4 tsp black pepper, 8 flour tortillas. Directions: 1. Heat oil in a large skillet over medium-high heat. 2. Add chicken and cook until browned on all sides, about 5 minutes. 3. Add peppers and onion to the skillet and cook for an additional 5-7 minutes, or until vegetables are tender. 4. In a small bowl, mix together chili powder, cumin, garlic powder, salt, and black pepper. 5. Sprinkle spice mixture over chicken and vegetables, stirring to coat. 6. Heat tortillas in a microwave or on a griddle until warm. 7. Serve chicken and vegetables in warm tortillas.\"}\\n')\n",
        "  f.write('{\"prompt\": \"What is a recipe for vegetable soup?\", \"completion\": \"Ingredients: 2 tbsp olive oil, 1 yellow onion, chopped, 2 cloves garlic, minced, 4 cups vegetable broth, 1 can diced tomatoes, 2 cups mixed vegetables (carrots, celery, potatoes, green beans, etc.), 1 tsp dried basil, 1 tsp dried oregano, salt and pepper to taste. Directions: 1. Heat oil in a large pot over medium heat. 2. Add onion and garlic and cook until softened, about 5 minutes. 3. Add vegetable broth, diced tomatoes, mixed vegetables, basil, and oregano. Stir to combine. 4. Bring soup to a boil, then reduce heat and simmer for 15-20 minutes, or until vegetables are tender. 5. Season with salt and pepper to taste. Serve hot.\"}\\n')\n",
        "  f.write('{\"prompt\": \"What is a recipe for shrimp scampi?\", \"completion\": \"Ingredients: 1 lb shrimp, peeled and deveined, 4 cloves garlic, minced, 1/4 Serve hot.\"}\\n')\n",
        "  f.write('{\"prompt\": \"What is a recipe for guacamole?\", \"completion\": \"Ingredients: 2 ripe avocados, 1/4 cup chopped red onion, 1/4 cup chopped fresh cilantro, 1 jalapeno pepper, seeded and minced, 1 garlic clove, minced, 2 tbsp fresh lime juice, salt and pepper to taste. Directions: 1. Cut avocados in half, remove pit and scoop flesh into a bowl. 2. Mash avocado with a fork or potato masher. 3. Stir in red onion, cilantro, jalapeno pepper, garlic, and lime juice. 4. Season with salt and pepper to taste. 5. Serve immediately with tortilla chips.\"}\\n')\n",
        "  f.write('{\"prompt\": \"What is a recipe for beef stew?\", \"completion\": \"Ingredients: 2 lbs beef stew meat, 1 onion, chopped, 4 cloves garlic, minced, 4 cups beef broth, 2 cups chopped carrots, 2 cups chopped potatoes, 1 tbsp tomato paste, 2 tsp dried thyme, 1 tsp dried rosemary, salt and pepper to taste. Directions: 1. Heat oil in a large pot over medium heat. 2. Add beef and cook until browned on all sides, about 5 minutes. 3. Add onion and garlic and cook until softened, about 5 minutes. 4. Add beef broth, carrots, potatoes, tomato paste, thyme, and rosemary. Stir to combine. 5. Bring stew to a boil, then reduce heat and simmer for 2-3 hours, or until beef is tender. 6. Season with salt and pepper to taste. Serve hot.\"}\\n')\n",
        "  f.write('{\"prompt\": \"What is a recipe for shrimp tacos?\", \"completion\": \"Ingredients: 1 lb shrimp, peeled and deveined, 1 tbsp olive oil, 1 tbsp chili powder, 1 tsp cumin, 1/2 tsp garlic powder, 1/2 tsp salt, 1/4 tsp black pepper, 8 corn tortillas, 1 cup shredded cabbage, 1/2 cup diced tomatoes, 1/4 cup chopped fresh cilantro, 1 lime, cut into wedges. Directions: 1. Heat oil in a large skillet over medium-high heat. 2. Add shrimp and cook until pink and cooked through, about 5 minutes. 3. In a small bowl, mix together chili powder, cumin, garlic powder, salt, and black pepper. 4. Sprinkle spice mixture over shrimp, stirring to coat. 5. Heat tortillas in a microwave or on a griddle until warm. 6. Serve shrimp in warm tortillas topped with shredded cabbage, diced tomatoes, cilantro, and a squeeze of lime juice.\"}\\n')\n",
        "  f.write('{\"prompt\": \"What is a recipe for blueberry muffins?\", \"completion\": \"Ingredients: 2 cups all-purpose flour, 1/2 cup sugar, 2 tsp baking powder, 1/2 tsp salt, 1 egg, beaten, 1 cup milk, 1/4 cup vegetable oil, 1 cup fresh blueberries. Directions: 1. Preheat oven to 400 degrees F. 2. In a large bowl, combine flour,\"}\\n')\n",
        "  f.write('{\"prompt\": \"What is a recipe for spaghetti carbonara?\", \"completion\": \"Ingredients: 1 lb spaghetti, 6 oz pancetta or bacon, 4 egg yolks, 1 cup freshly grated Parmesan cheese, salt and black pepper to taste. Directions: 1. Cook spaghetti in a large pot of boiling salted water until al dente. 2. In a large skillet, cook pancetta or bacon over medium heat until crispy. 3. In a small bowl, whisk together egg yolks and Parmesan cheese. 4. Drain spaghetti and add it to the skillet with pancetta or bacon. 5. Remove skillet from heat and add egg yolk mixture, tossing quickly to coat the pasta. 6. Season with salt and black pepper to taste. Serve hot.\"}\\n')\n",
        "  f.write('{\"prompt\": \"What is a recipe for chicken tikka masala?\", \"completion\": \"Ingredients: 1 lb boneless, skinless chicken breasts, 1 cup plain yogurt, 2 tbsp lemon juice, 2 tsp ground cumin, 2 tsp paprika, 1 tsp salt, 1/2 tsp ground ginger, 1/2 tsp cayenne pepper, 1/4 tsp ground cinnamon, 1/4 tsp ground cardamom, 1/4 tsp ground coriander, 2 tbsp butter, 1 onion, chopped, 3 garlic cloves, minced, 1 tbsp grated fresh ginger, 1 can (14.5 oz) diced tomatoes, 1 cup heavy cream, salt and black pepper to taste. Directions: 1. Cut chicken into bite-size pieces. 2. In a large bowl, whisk together yogurt, lemon juice, cumin, paprika, salt, ginger, cayenne, cinnamon, cardamom, and coriander. 3. Add chicken to the bowl and toss to coat. Cover and refrigerate for at least 1 hour. 4. Melt butter in a large skillet over medium heat. 5. Add onion, garlic, and ginger and cook until softened, about 5 minutes. 6. Add chicken and marinade to the skillet and cook until chicken is browned on all sides, about 8 minutes. 7. Add tomatoes and bring to a simmer. 8. Reduce heat to low and simmer for 10 minutes. 9. Stir in heavy cream and simmer for an additional 5 minutes. 10. Season with salt and black pepper to taste. Serve over rice.\"}\\n')\n",
        "  f.write('{\"prompt\": \"What is a recipe for vegetable stir-fry?\", \"completion\": \"Ingredients: 1 tbsp vegetable oil, 1 onion, chopped, 3 garlic cloves, minced, 1 tbsp grated fresh ginger, 1 red bell pepper, sliced, 1 yellow bell pepper, sliced, 1 zucchini, sliced, 1 cup sliced mushrooms, 1 cup broccoli florets, 2 tbsp soy sauce, 1 tbsp cornstarch, salt and black pepper to taste. Directions: 1. Heat oil in a large skillet over medium-high heat. 2. Add onion, garlic, and ginger and cook until softened, about 5 minutes. 3. Add bell peppers, zucchini, mushrooms, and broccoli and stir-fry until vegetables are tender-crisp, about 8 minutes. 4. In a small\"}\\n')\n"
      ],
      "metadata": {
        "id": "aotmNAFE98od"
      },
      "execution_count": null,
      "outputs": []
    },
    {
      "cell_type": "markdown",
      "source": [
        "**Uses the OpenAI API to fine-tune a GPT model on a dataset of prompt-completion pairs.**"
      ],
      "metadata": {
        "id": "a6O1REF9XxcB"
      }
    },
    {
      "cell_type": "code",
      "source": [
        "!openai api fine_tunes.create -t training_data -m ada"
      ],
      "metadata": {
        "id": "LdGUJkBv-AeN",
        "colab": {
          "base_uri": "https://localhost:8080/"
        },
        "outputId": "a485f4d3-4ef2-422a-cf72-2a22d2ecef0a"
      },
      "execution_count": null,
      "outputs": [
        {
          "output_type": "stream",
          "name": "stdout",
          "text": [
            "Found potentially duplicated files with name 'training_data', purpose 'fine-tune' and size 19117 bytes\n",
            "file-rE9us38lwLyQxKnqqIW4wKyr\n",
            "file-1E1yoTfES4OXWdZY4l40SQBE\n",
            "Enter file ID to reuse an already uploaded file, or an empty string to upload this file anyway: file-rE9us38lwLyQxKnqqIW4wKyr\n",
            "Reusing already uploaded file: file-rE9us38lwLyQxKnqqIW4wKyr\n",
            "Created fine-tune: ft-6I4C48U1IXXT7xcgLVYKOY1w\n",
            "Streaming events until fine-tuning is complete...\n",
            "\n",
            "(Ctrl-C will interrupt the stream, but not cancel the fine-tune)\n",
            "[2023-04-05 02:42:03] Created fine-tune: ft-6I4C48U1IXXT7xcgLVYKOY1w\n",
            "\n",
            "Stream interrupted (client disconnected).\n",
            "To resume the stream, run:\n",
            "\n",
            "  openai api fine_tunes.follow -i ft-6I4C48U1IXXT7xcgLVYKOY1w\n",
            "\n"
          ]
        }
      ]
    },
    {
      "cell_type": "code",
      "source": [
        "!openai api fine_tunes.get -i ft-6I4C48U1IXXT7xcgLVYKOY1w"
      ],
      "metadata": {
        "id": "G2YvKwaf-CuX",
        "colab": {
          "base_uri": "https://localhost:8080/"
        },
        "outputId": "376ce9d3-a821-4273-9682-290b0e56233b"
      },
      "execution_count": null,
      "outputs": [
        {
          "output_type": "stream",
          "name": "stdout",
          "text": [
            "{\n",
            "  \"created_at\": 1680662523,\n",
            "  \"events\": [\n",
            "    {\n",
            "      \"created_at\": 1680662523,\n",
            "      \"level\": \"info\",\n",
            "      \"message\": \"Created fine-tune: ft-6I4C48U1IXXT7xcgLVYKOY1w\",\n",
            "      \"object\": \"fine-tune-event\"\n",
            "    },\n",
            "    {\n",
            "      \"created_at\": 1680662608,\n",
            "      \"level\": \"info\",\n",
            "      \"message\": \"Fine-tune costs $0.01\",\n",
            "      \"object\": \"fine-tune-event\"\n",
            "    },\n",
            "    {\n",
            "      \"created_at\": 1680662608,\n",
            "      \"level\": \"info\",\n",
            "      \"message\": \"Fine-tune enqueued. Queue number: 0\",\n",
            "      \"object\": \"fine-tune-event\"\n",
            "    },\n",
            "    {\n",
            "      \"created_at\": 1680662609,\n",
            "      \"level\": \"info\",\n",
            "      \"message\": \"Fine-tune started\",\n",
            "      \"object\": \"fine-tune-event\"\n",
            "    },\n",
            "    {\n",
            "      \"created_at\": 1680662628,\n",
            "      \"level\": \"info\",\n",
            "      \"message\": \"Completed epoch 1/4\",\n",
            "      \"object\": \"fine-tune-event\"\n",
            "    },\n",
            "    {\n",
            "      \"created_at\": 1680662633,\n",
            "      \"level\": \"info\",\n",
            "      \"message\": \"Completed epoch 2/4\",\n",
            "      \"object\": \"fine-tune-event\"\n",
            "    },\n",
            "    {\n",
            "      \"created_at\": 1680662638,\n",
            "      \"level\": \"info\",\n",
            "      \"message\": \"Completed epoch 3/4\",\n",
            "      \"object\": \"fine-tune-event\"\n",
            "    },\n",
            "    {\n",
            "      \"created_at\": 1680662642,\n",
            "      \"level\": \"info\",\n",
            "      \"message\": \"Completed epoch 4/4\",\n",
            "      \"object\": \"fine-tune-event\"\n",
            "    },\n",
            "    {\n",
            "      \"created_at\": 1680662660,\n",
            "      \"level\": \"info\",\n",
            "      \"message\": \"Uploaded model: ada:ft-personal-2023-04-05-02-44-20\",\n",
            "      \"object\": \"fine-tune-event\"\n",
            "    },\n",
            "    {\n",
            "      \"created_at\": 1680662661,\n",
            "      \"level\": \"info\",\n",
            "      \"message\": \"Uploaded result file: file-3NTmnhqHwYQlzuI0fu4R0eQY\",\n",
            "      \"object\": \"fine-tune-event\"\n",
            "    },\n",
            "    {\n",
            "      \"created_at\": 1680662661,\n",
            "      \"level\": \"info\",\n",
            "      \"message\": \"Fine-tune succeeded\",\n",
            "      \"object\": \"fine-tune-event\"\n",
            "    }\n",
            "  ],\n",
            "  \"fine_tuned_model\": \"ada:ft-personal-2023-04-05-02-44-20\",\n",
            "  \"hyperparams\": {\n",
            "    \"batch_size\": 1,\n",
            "    \"learning_rate_multiplier\": 0.1,\n",
            "    \"n_epochs\": 4,\n",
            "    \"prompt_loss_weight\": 0.01\n",
            "  },\n",
            "  \"id\": \"ft-6I4C48U1IXXT7xcgLVYKOY1w\",\n",
            "  \"model\": \"ada\",\n",
            "  \"object\": \"fine-tune\",\n",
            "  \"organization_id\": \"org-maYPJaxQa07DO6CHbkUy3NA7\",\n",
            "  \"result_files\": [\n",
            "    {\n",
            "      \"bytes\": 6636,\n",
            "      \"created_at\": 1680662661,\n",
            "      \"filename\": \"compiled_results.csv\",\n",
            "      \"id\": \"file-3NTmnhqHwYQlzuI0fu4R0eQY\",\n",
            "      \"object\": \"file\",\n",
            "      \"purpose\": \"fine-tune-results\",\n",
            "      \"status\": \"processed\",\n",
            "      \"status_details\": null\n",
            "    }\n",
            "  ],\n",
            "  \"status\": \"succeeded\",\n",
            "  \"training_files\": [\n",
            "    {\n",
            "      \"bytes\": 19117,\n",
            "      \"created_at\": 1680661699,\n",
            "      \"filename\": \"training_data\",\n",
            "      \"id\": \"file-rE9us38lwLyQxKnqqIW4wKyr\",\n",
            "      \"object\": \"file\",\n",
            "      \"purpose\": \"fine-tune\",\n",
            "      \"status\": \"processed\",\n",
            "      \"status_details\": null\n",
            "    }\n",
            "  ],\n",
            "  \"updated_at\": 1680662661,\n",
            "  \"validation_files\": []\n",
            "}\n"
          ]
        }
      ]
    },
    {
      "cell_type": "markdown",
      "source": [
        "**Testing the fine-tune a GPT model**"
      ],
      "metadata": {
        "id": "nIyjYPIbYZou"
      }
    },
    {
      "cell_type": "code",
      "source": [
        "prompt = 'What is a recipe for chicken tikka masala?'\n",
        "response = openai.Completion.create(\n",
        "  model=\"ada:ft-personal-2023-04-05-02-44-20\",\n",
        "  prompt=prompt,\n",
        "  temperature=0.7,\n",
        "  max_tokens=256,\n",
        "  top_p=1,\n",
        "  frequency_penalty=0,\n",
        "  presence_penalty=0\n",
        ")"
      ],
      "metadata": {
        "id": "mb1zpMCI-LVz"
      },
      "execution_count": null,
      "outputs": []
    },
    {
      "cell_type": "code",
      "source": [
        "response['choices'][0]['text'].strip()"
      ],
      "metadata": {
        "colab": {
          "base_uri": "https://localhost:8080/",
          "height": 122
        },
        "id": "OYQH4YAq-Tud",
        "outputId": "9003707f-4851-4857-b48c-2bcb1c1f42ed"
      },
      "execution_count": null,
      "outputs": [
        {
          "output_type": "execute_result",
          "data": {
            "text/plain": [
              "'Ingredients: 1 lb boneless, skinless chicken breasts, sliced thin, 1/4 cup coconut oil, 1/4 cup onion, sliced thin, 1/4 cup garlic, minced, 1/4 cup ginger, grated, 1/4 cup cumin, 1/4 cup chili powder, 1/4 cup salt, 1/4 cup black pepper, 1/4 cup tomato paste, 1/4 cup vegetable oil. Directions: 1. Heat oil in a large pan over medium-high heat. 2. Add chicken and cook until browned on all sides, about 8 minutes. 3. Add onion, garlic, ginger, cumin, chili powder, salt, and pepper to a large bowl. Stir to combine. 4. In a small bowl, mix together tomato paste, oil, and tomato sauce. 5. Pour sauce over chicken. 6. Stir to coat. 7. Heat vegetable oil in a large skillet over medium heat. 8. Add chicken to the skillet and stir-fry until browned on all sides, about 5-7 minutes. 8. Stir in tomato sauce. 9. Add chili powder and salt to taste. 10. Serve chicken with sauce over rice. Enjoy! Enjoyed this recipe? You may also like'"
            ],
            "application/vnd.google.colaboratory.intrinsic+json": {
              "type": "string"
            }
          },
          "metadata": {},
          "execution_count": 65
        }
      ]
    },
    {
      "cell_type": "code",
      "source": [
        "\n",
        "raw_text = response['choices'][0]['text'].strip()\n",
        "\n",
        "\n",
        "ingredients, directions = raw_text.split('Directions:')\n",
        "\n",
        "\n",
        "ingredients = ingredients.replace('Ingredients:', '').strip()\n",
        "ingredients = '- ' + ingredients.replace(', ', '\\n- ')\n",
        "\n",
        "\n",
        "directions = directions.strip()\n",
        "directions = directions.replace('\\n', '').replace('. ', '.\\n')\n",
        "\n",
        "\n",
        "print('Ingredients:')\n",
        "print(ingredients)\n",
        "print('\\nDirections:')\n",
        "print(directions)\n"
      ],
      "metadata": {
        "colab": {
          "base_uri": "https://localhost:8080/"
        },
        "id": "Vu0n9rxvUx6X",
        "outputId": "2859a2f8-9884-4a58-f133-af8a6d494ed2"
      },
      "execution_count": null,
      "outputs": [
        {
          "output_type": "stream",
          "name": "stdout",
          "text": [
            "Ingredients:\n",
            "- 1 lb boneless\n",
            "- skinless chicken breasts\n",
            "- sliced thin\n",
            "- 1/4 cup coconut oil\n",
            "- 1/4 cup onion\n",
            "- sliced thin\n",
            "- 1/4 cup garlic\n",
            "- minced\n",
            "- 1/4 cup ginger\n",
            "- grated\n",
            "- 1/4 cup cumin\n",
            "- 1/4 cup chili powder\n",
            "- 1/4 cup salt\n",
            "- 1/4 cup black pepper\n",
            "- 1/4 cup tomato paste\n",
            "- 1/4 cup vegetable oil.\n",
            "\n",
            "Directions:\n",
            "1.\n",
            "Heat oil in a large pan over medium-high heat.\n",
            "2.\n",
            "Add chicken and cook until browned on all sides, about 8 minutes.\n",
            "3.\n",
            "Add onion, garlic, ginger, cumin, chili powder, salt, and pepper to a large bowl.\n",
            "Stir to combine.\n",
            "4.\n",
            "In a small bowl, mix together tomato paste, oil, and tomato sauce.\n",
            "5.\n",
            "Pour sauce over chicken.\n",
            "6.\n",
            "Stir to coat.\n",
            "7.\n",
            "Heat vegetable oil in a large skillet over medium heat.\n",
            "8.\n",
            "Add chicken to the skillet and stir-fry until browned on all sides, about 5-7 minutes.\n",
            "8.\n",
            "Stir in tomato sauce.\n",
            "9.\n",
            "Add chili powder and salt to taste.\n",
            "10.\n",
            "Serve chicken with sauce over rice.\n",
            "Enjoy! Enjoyed this recipe? You may also like\n"
          ]
        }
      ]
    }
  ]
}