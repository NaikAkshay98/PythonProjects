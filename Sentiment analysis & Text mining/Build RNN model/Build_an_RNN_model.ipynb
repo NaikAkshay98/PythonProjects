{
  "nbformat": 4,
  "nbformat_minor": 0,
  "metadata": {
    "colab": {
      "provenance": []
    },
    "kernelspec": {
      "name": "python3",
      "display_name": "Python 3"
    },
    "language_info": {
      "name": "python"
    },
    "accelerator": "GPU",
    "gpuClass": "standard"
  },
  "cells": [
    {
      "cell_type": "markdown",
      "source": [
        "# Build an RNN"
      ],
      "metadata": {
        "id": "w25qXylDPUqo"
      }
    },
    {
      "cell_type": "markdown",
      "source": [
        "Use the techniques discussed in class to build an RNN model."
      ],
      "metadata": {
        "id": "DC9pd9dRPY5f"
      }
    },
    {
      "cell_type": "markdown",
      "source": [
        "Remember, this example comes from the textbook *Deep Learning with Python (Second Edition)*. I will be using examples from this textbook throughout the second half of the course. Although not required, you may wish to consult this textbook. The text is provided for free online through Seneca Libraries [here](https://learning-oreilly-com.libaccess.senecacollege.ca/library/view/deep-learning-with/9781617296864/Text/title.xhtml). All of the code from the textbook is on Github [here](https://github.com/fchollet/deep-learning-with-python-notebooks). Any students who wish to work with deep learning models professionally should definitely consider reading the book from cover-to-cover."
      ],
      "metadata": {
        "id": "F_qL_Z3QTdpU"
      }
    },
    {
      "cell_type": "code",
      "execution_count": null,
      "metadata": {
        "id": "5v0J1LroPAKO",
        "colab": {
          "base_uri": "https://localhost:8080/"
        },
        "outputId": "e0a1a50c-978c-4e17-bd35-be68d285f85b"
      },
      "outputs": [
        {
          "output_type": "stream",
          "name": "stdout",
          "text": [
            "  % Total    % Received % Xferd  Average Speed   Time    Time     Time  Current\n",
            "                                 Dload  Upload   Total   Spent    Left  Speed\n",
            "100 80.2M  100 80.2M    0     0  67.0M      0  0:00:01  0:00:01 --:--:-- 67.0M\n"
          ]
        }
      ],
      "source": [
        "!curl -O https://ai.stanford.edu/~amaas/data/sentiment/aclImdb_v1.tar.gz\n",
        "!tar -xf aclImdb_v1.tar.gz\n",
        "!rm -r aclImdb/train/unsup"
      ]
    },
    {
      "cell_type": "code",
      "source": [
        "import os, pathlib, shutil, random\n",
        "from tensorflow import keras\n",
        "batch_size = 32\n",
        "base_dir = pathlib.Path(\"aclImdb\")\n",
        "val_dir = base_dir / \"val\"\n",
        "train_dir = base_dir / \"train\"\n",
        "for category in (\"neg\", \"pos\"):\n",
        "    os.makedirs(val_dir / category)\n",
        "    files = os.listdir(train_dir / category)\n",
        "    random.Random(1337).shuffle(files)\n",
        "    num_val_samples = int(0.2 * len(files))\n",
        "    val_files = files[-num_val_samples:]\n",
        "    for fname in val_files:\n",
        "        shutil.move(train_dir / category / fname,\n",
        "                    val_dir / category / fname)\n",
        "\n",
        "train_ds = keras.utils.text_dataset_from_directory(\n",
        "    \"aclImdb/train\", batch_size=batch_size\n",
        ")\n",
        "val_ds = keras.utils.text_dataset_from_directory(\n",
        "    \"aclImdb/val\", batch_size=batch_size\n",
        ")\n",
        "test_ds = keras.utils.text_dataset_from_directory(\n",
        "    \"aclImdb/test\", batch_size=batch_size\n",
        ")\n",
        "text_only_train_ds = train_ds.map(lambda x, y: x)"
      ],
      "metadata": {
        "colab": {
          "base_uri": "https://localhost:8080/"
        },
        "id": "CHK1hGNMsTa_",
        "outputId": "dad9cd2f-5f0e-44db-e503-022c1ad4bdd2"
      },
      "execution_count": null,
      "outputs": [
        {
          "output_type": "stream",
          "name": "stdout",
          "text": [
            "Found 20000 files belonging to 2 classes.\n",
            "Found 5000 files belonging to 2 classes.\n"
          ]
        },
        {
          "output_type": "stream",
          "name": "stderr",
          "text": [
            "WARNING:tensorflow:From /usr/local/lib/python3.9/dist-packages/tensorflow/python/autograph/pyct/static_analysis/liveness.py:83: Analyzer.lamba_check (from tensorflow.python.autograph.pyct.static_analysis.liveness) is deprecated and will be removed after 2023-09-23.\n",
            "Instructions for updating:\n",
            "Lambda fuctions will be no more assumed to be used in the statement where they are used, or at least in the same block. https://github.com/tensorflow/tensorflow/issues/56089\n"
          ]
        },
        {
          "output_type": "stream",
          "name": "stdout",
          "text": [
            "Found 25000 files belonging to 2 classes.\n"
          ]
        }
      ]
    },
    {
      "cell_type": "code",
      "source": [
        "from tensorflow.keras import layers\n",
        "\n",
        "max_length = 600\n",
        "max_tokens = 20000\n",
        "text_vectorization = layers.TextVectorization(\n",
        "    max_tokens=max_tokens,\n",
        "    output_mode=\"int\",\n",
        "    output_sequence_length=max_length,\n",
        ")\n",
        "text_vectorization.adapt(text_only_train_ds)\n",
        "\n",
        "int_train_ds = train_ds.map(\n",
        "    lambda x, y: (text_vectorization(x), y),\n",
        "    num_parallel_calls=4)\n",
        "int_val_ds = val_ds.map(\n",
        "    lambda x, y: (text_vectorization(x), y),\n",
        "    num_parallel_calls=4)\n",
        "int_test_ds = test_ds.map(\n",
        "    lambda x, y: (text_vectorization(x), y),\n",
        "    num_parallel_calls=4)"
      ],
      "metadata": {
        "id": "iDQr04VXsuFq"
      },
      "execution_count": null,
      "outputs": []
    },
    {
      "cell_type": "code",
      "source": [
        "import tensorflow as tf\n",
        "inputs = keras.Input(shape=(None,), dtype=\"int64\")\n",
        "embedded = tf.one_hot(inputs, depth=max_tokens)\n",
        "x = layers.Bidirectional(layers.LSTM(32))(embedded)\n",
        "x = layers.Dropout(0.5)(x)\n",
        "outputs = layers.Dense(1, activation=\"sigmoid\")(x)\n",
        "model = keras.Model(inputs, outputs)\n",
        "model.compile(optimizer=\"rmsprop\",\n",
        "              loss=\"binary_crossentropy\",\n",
        "              metrics=[\"accuracy\"])\n",
        "model.summary()"
      ],
      "metadata": {
        "colab": {
          "base_uri": "https://localhost:8080/"
        },
        "id": "AK7PEMdwtkEU",
        "outputId": "d0644d76-dcc0-413b-899d-029d9c4cfdf7"
      },
      "execution_count": null,
      "outputs": [
        {
          "output_type": "stream",
          "name": "stdout",
          "text": [
            "Model: \"model\"\n",
            "_________________________________________________________________\n",
            " Layer (type)                Output Shape              Param #   \n",
            "=================================================================\n",
            " input_1 (InputLayer)        [(None, None)]            0         \n",
            "                                                                 \n",
            " tf.one_hot (TFOpLambda)     (None, None, 20000)       0         \n",
            "                                                                 \n",
            " bidirectional (Bidirectiona  (None, 64)               5128448   \n",
            " l)                                                              \n",
            "                                                                 \n",
            " dropout (Dropout)           (None, 64)                0         \n",
            "                                                                 \n",
            " dense_1 (Dense)             (None, 1)                 65        \n",
            "                                                                 \n",
            "=================================================================\n",
            "Total params: 5,128,513\n",
            "Trainable params: 5,128,513\n",
            "Non-trainable params: 0\n",
            "_________________________________________________________________\n"
          ]
        }
      ]
    },
    {
      "cell_type": "code",
      "source": [
        "callbacks = [\n",
        "    keras.callbacks.ModelCheckpoint(\"one_hot_bidir_lstm.keras\",\n",
        "                                    save_best_only=True)\n",
        "]\n",
        "model.fit(int_train_ds, validation_data=int_val_ds, epochs=10, callbacks=callbacks)\n",
        "model = keras.models.load_model(\"one_hot_bidir_lstm.keras\")\n",
        "print(f\"Test acc: {model.evaluate(int_test_ds)[1]:.3f}\")"
      ],
      "metadata": {
        "colab": {
          "base_uri": "https://localhost:8080/"
        },
        "id": "H41q47BEua-5",
        "outputId": "2fffba52-b4e5-4ea7-93ec-28831119c907"
      },
      "execution_count": null,
      "outputs": [
        {
          "output_type": "stream",
          "name": "stdout",
          "text": [
            "Epoch 1/10\n",
            "625/625 [==============================] - 168s 262ms/step - loss: 0.5622 - accuracy: 0.7085 - val_loss: 0.4598 - val_accuracy: 0.8340\n",
            "Epoch 2/10\n",
            "625/625 [==============================] - 162s 259ms/step - loss: 0.3855 - accuracy: 0.8601 - val_loss: 0.3271 - val_accuracy: 0.8690\n",
            "Epoch 3/10\n",
            "625/625 [==============================] - 163s 260ms/step - loss: 0.3041 - accuracy: 0.8953 - val_loss: 0.3637 - val_accuracy: 0.8434\n",
            "Epoch 4/10\n",
            "625/625 [==============================] - 163s 260ms/step - loss: 0.2649 - accuracy: 0.9089 - val_loss: 0.3442 - val_accuracy: 0.8482\n",
            "Epoch 5/10\n",
            "625/625 [==============================] - 161s 258ms/step - loss: 0.2318 - accuracy: 0.9198 - val_loss: 0.5193 - val_accuracy: 0.8724\n",
            "Epoch 6/10\n",
            "625/625 [==============================] - 161s 258ms/step - loss: 0.2057 - accuracy: 0.9329 - val_loss: 0.2842 - val_accuracy: 0.8870\n",
            "Epoch 7/10\n",
            "625/625 [==============================] - 161s 258ms/step - loss: 0.1834 - accuracy: 0.9398 - val_loss: 0.3304 - val_accuracy: 0.8774\n",
            "Epoch 8/10\n",
            "625/625 [==============================] - 162s 260ms/step - loss: 0.1681 - accuracy: 0.9464 - val_loss: 0.4028 - val_accuracy: 0.8682\n",
            "Epoch 9/10\n",
            "625/625 [==============================] - 161s 258ms/step - loss: 0.1429 - accuracy: 0.9538 - val_loss: 0.3202 - val_accuracy: 0.8746\n",
            "Epoch 10/10\n",
            "625/625 [==============================] - 161s 258ms/step - loss: 0.1281 - accuracy: 0.9591 - val_loss: 0.3470 - val_accuracy: 0.8678\n",
            "782/782 [==============================] - 97s 124ms/step - loss: 0.3092 - accuracy: 0.8736\n",
            "Test acc: 0.874\n"
          ]
        }
      ]
    },
    {
      "cell_type": "code",
      "source": [
        "embedding_layer = layers.Embedding(input_dim=max_tokens, output_dim=256)"
      ],
      "metadata": {
        "id": "GC9h-vAIw0-S"
      },
      "execution_count": null,
      "outputs": []
    },
    {
      "cell_type": "code",
      "source": [
        "inputs = keras.Input(shape=(None,), dtype=\"int64\")\n",
        "embedded = layers.Embedding(input_dim=max_tokens, output_dim=256)(inputs)\n",
        "x = layers.Bidirectional(layers.LSTM(32))(embedded)\n",
        "x = layers.Dropout(0.5)(x)\n",
        "outputs = layers.Dense(1, activation=\"sigmoid\")(x)\n",
        "model = keras.Model(inputs, outputs)\n",
        "model.compile(optimizer=\"rmsprop\",\n",
        "              loss=\"binary_crossentropy\",\n",
        "              metrics=[\"accuracy\"])\n",
        "model.summary()\n",
        "\n",
        "callbacks = [\n",
        "    keras.callbacks.ModelCheckpoint(\"embeddings_bidir_gru.keras\",\n",
        "                                    save_best_only=True)\n",
        "]\n",
        "model.fit(int_train_ds, validation_data=int_val_ds, epochs=10, callbacks=callbacks)\n",
        "model = keras.models.load_model(\"embeddings_bidir_gru.keras\")\n",
        "print(f\"Test acc: {model.evaluate(int_test_ds)[1]:.3f}\")"
      ],
      "metadata": {
        "colab": {
          "base_uri": "https://localhost:8080/"
        },
        "id": "SyDnQUbrw14l",
        "outputId": "26dd6708-35b3-42fb-a454-d379ee77ded2"
      },
      "execution_count": null,
      "outputs": [
        {
          "output_type": "stream",
          "name": "stdout",
          "text": [
            "Model: \"model_1\"\n",
            "_________________________________________________________________\n",
            " Layer (type)                Output Shape              Param #   \n",
            "=================================================================\n",
            " input_2 (InputLayer)        [(None, None)]            0         \n",
            "                                                                 \n",
            " embedding_2 (Embedding)     (None, None, 256)         5120000   \n",
            "                                                                 \n",
            " bidirectional_1 (Bidirectio  (None, 64)               73984     \n",
            " nal)                                                            \n",
            "                                                                 \n",
            " dropout_1 (Dropout)         (None, 64)                0         \n",
            "                                                                 \n",
            " dense_2 (Dense)             (None, 1)                 65        \n",
            "                                                                 \n",
            "=================================================================\n",
            "Total params: 5,194,049\n",
            "Trainable params: 5,194,049\n",
            "Non-trainable params: 0\n",
            "_________________________________________________________________\n",
            "Epoch 1/10\n",
            "625/625 [==============================] - 81s 125ms/step - loss: 0.5377 - accuracy: 0.7355 - val_loss: 0.4057 - val_accuracy: 0.8336\n",
            "Epoch 2/10\n",
            "625/625 [==============================] - 44s 70ms/step - loss: 0.3647 - accuracy: 0.8593 - val_loss: 0.3697 - val_accuracy: 0.8436\n",
            "Epoch 3/10\n",
            "625/625 [==============================] - 33s 53ms/step - loss: 0.2927 - accuracy: 0.8921 - val_loss: 0.3305 - val_accuracy: 0.8730\n",
            "Epoch 4/10\n",
            "625/625 [==============================] - 32s 51ms/step - loss: 0.2438 - accuracy: 0.9115 - val_loss: 0.3732 - val_accuracy: 0.8632\n",
            "Epoch 5/10\n",
            "625/625 [==============================] - 28s 45ms/step - loss: 0.2077 - accuracy: 0.9291 - val_loss: 0.4232 - val_accuracy: 0.8464\n",
            "Epoch 6/10\n",
            "625/625 [==============================] - 26s 41ms/step - loss: 0.1812 - accuracy: 0.9395 - val_loss: 0.5621 - val_accuracy: 0.8462\n",
            "Epoch 7/10\n",
            "625/625 [==============================] - 26s 41ms/step - loss: 0.1591 - accuracy: 0.9485 - val_loss: 0.3648 - val_accuracy: 0.8726\n",
            "Epoch 8/10\n",
            "625/625 [==============================] - 26s 41ms/step - loss: 0.1362 - accuracy: 0.9575 - val_loss: 0.4088 - val_accuracy: 0.8696\n",
            "Epoch 9/10\n",
            "625/625 [==============================] - 25s 39ms/step - loss: 0.1201 - accuracy: 0.9637 - val_loss: 0.4493 - val_accuracy: 0.8714\n",
            "Epoch 10/10\n",
            "625/625 [==============================] - 25s 40ms/step - loss: 0.0988 - accuracy: 0.9708 - val_loss: 0.4885 - val_accuracy: 0.8412\n",
            "782/782 [==============================] - 13s 16ms/step - loss: 0.3559 - accuracy: 0.8542\n",
            "Test acc: 0.854\n"
          ]
        }
      ]
    },
    {
      "cell_type": "code",
      "source": [
        "inputs = keras.Input(shape=(None,), dtype=\"int64\")\n",
        "embedded = layers.Embedding(\n",
        "    input_dim=max_tokens, output_dim=256, mask_zero=True)(inputs)\n",
        "x = layers.Bidirectional(layers.LSTM(32))(embedded)\n",
        "x = layers.Dropout(0.5)(x)\n",
        "outputs = layers.Dense(1, activation=\"sigmoid\")(x)\n",
        "model = keras.Model(inputs, outputs)\n",
        "model.compile(optimizer=\"rmsprop\",\n",
        "              loss=\"binary_crossentropy\",\n",
        "              metrics=[\"accuracy\"])\n",
        "model.summary()\n",
        "\n",
        "callbacks = [\n",
        "    keras.callbacks.ModelCheckpoint(\"embeddings_bidir_gru_with_masking.keras\",\n",
        "                                    save_best_only=True)\n",
        "]\n",
        "model.fit(int_train_ds, validation_data=int_val_ds, epochs=10, callbacks=callbacks)\n",
        "model = keras.models.load_model(\"embeddings_bidir_gru_with_masking.keras\")\n",
        "print(f\"Test acc: {model.evaluate(int_test_ds)[1]:.3f}\")"
      ],
      "metadata": {
        "colab": {
          "base_uri": "https://localhost:8080/"
        },
        "id": "OW7NCoGqw4O4",
        "outputId": "baac2428-dc6a-41b2-b9a0-9d33f5af8599"
      },
      "execution_count": null,
      "outputs": [
        {
          "output_type": "stream",
          "name": "stdout",
          "text": [
            "Model: \"model_2\"\n",
            "_________________________________________________________________\n",
            " Layer (type)                Output Shape              Param #   \n",
            "=================================================================\n",
            " input_3 (InputLayer)        [(None, None)]            0         \n",
            "                                                                 \n",
            " embedding_3 (Embedding)     (None, None, 256)         5120000   \n",
            "                                                                 \n",
            " bidirectional_2 (Bidirectio  (None, 64)               73984     \n",
            " nal)                                                            \n",
            "                                                                 \n",
            " dropout_2 (Dropout)         (None, 64)                0         \n",
            "                                                                 \n",
            " dense_3 (Dense)             (None, 1)                 65        \n",
            "                                                                 \n",
            "=================================================================\n",
            "Total params: 5,194,049\n",
            "Trainable params: 5,194,049\n",
            "Non-trainable params: 0\n",
            "_________________________________________________________________\n",
            "Epoch 1/10\n",
            "625/625 [==============================] - 72s 102ms/step - loss: 0.4471 - accuracy: 0.7842 - val_loss: 0.3303 - val_accuracy: 0.8580\n",
            "Epoch 2/10\n",
            "625/625 [==============================] - 43s 68ms/step - loss: 0.2751 - accuracy: 0.8907 - val_loss: 0.2920 - val_accuracy: 0.8760\n",
            "Epoch 3/10\n",
            "625/625 [==============================] - 35s 56ms/step - loss: 0.2110 - accuracy: 0.9200 - val_loss: 0.2975 - val_accuracy: 0.8798\n",
            "Epoch 4/10\n",
            "625/625 [==============================] - 32s 51ms/step - loss: 0.1641 - accuracy: 0.9408 - val_loss: 0.3159 - val_accuracy: 0.8828\n",
            "Epoch 5/10\n",
            "625/625 [==============================] - 30s 48ms/step - loss: 0.1235 - accuracy: 0.9559 - val_loss: 0.3306 - val_accuracy: 0.8660\n",
            "Epoch 6/10\n",
            "625/625 [==============================] - 33s 53ms/step - loss: 0.0996 - accuracy: 0.9640 - val_loss: 0.3935 - val_accuracy: 0.8796\n",
            "Epoch 7/10\n",
            "625/625 [==============================] - 29s 46ms/step - loss: 0.0744 - accuracy: 0.9741 - val_loss: 0.4095 - val_accuracy: 0.8778\n",
            "Epoch 8/10\n",
            "625/625 [==============================] - 30s 47ms/step - loss: 0.0598 - accuracy: 0.9806 - val_loss: 0.4466 - val_accuracy: 0.8748\n",
            "Epoch 9/10\n",
            "625/625 [==============================] - 28s 45ms/step - loss: 0.0496 - accuracy: 0.9832 - val_loss: 0.4982 - val_accuracy: 0.8748\n",
            "Epoch 10/10\n",
            "625/625 [==============================] - 28s 45ms/step - loss: 0.0387 - accuracy: 0.9870 - val_loss: 0.5950 - val_accuracy: 0.8612\n",
            "782/782 [==============================] - 17s 18ms/step - loss: 0.2994 - accuracy: 0.8738\n",
            "Test acc: 0.874\n"
          ]
        }
      ]
    },
    {
      "cell_type": "markdown",
      "source": [
        "\n",
        "\n",
        "---\n",
        "\n",
        "\n",
        "\n",
        "---\n",
        "\n",
        "# **A secondary RNN model was developed utilizing a comparable methodology as recommended in the textbook.**\n"
      ],
      "metadata": {
        "id": "OH_i6NJvAR3N"
      }
    },
    {
      "cell_type": "code",
      "source": [
        "import numpy as np\n",
        "from tensorflow.keras.datasets import imdb\n",
        "from tensorflow.keras.models import Sequential\n",
        "from tensorflow.keras.layers import Dense, Embedding, LSTM\n",
        "from tensorflow.keras.preprocessing import sequence"
      ],
      "metadata": {
        "id": "DODLu3xYDb2x"
      },
      "execution_count": null,
      "outputs": []
    },
    {
      "cell_type": "code",
      "source": [
        "# Load the IMDB dataset\n",
        "(x_train, y_train), (x_test, y_test) = imdb.load_data(num_words=20000)"
      ],
      "metadata": {
        "colab": {
          "base_uri": "https://localhost:8080/"
        },
        "id": "3mKqSu9EEBUO",
        "outputId": "36504ff2-ed62-4b24-ea93-dab0c8472213"
      },
      "execution_count": null,
      "outputs": [
        {
          "output_type": "stream",
          "name": "stdout",
          "text": [
            "Downloading data from https://storage.googleapis.com/tensorflow/tf-keras-datasets/imdb.npz\n",
            "17464789/17464789 [==============================] - 0s 0us/step\n"
          ]
        }
      ]
    },
    {
      "cell_type": "code",
      "source": [
        "# Pad sequences\n",
        "max_review_length = 600\n",
        "x_train = sequence.pad_sequences(x_train, maxlen=max_review_length)\n",
        "x_test = sequence.pad_sequences(x_test, maxlen=max_review_length)"
      ],
      "metadata": {
        "id": "4FZITy6fEEoG"
      },
      "execution_count": null,
      "outputs": []
    },
    {
      "cell_type": "code",
      "source": [
        "# Define the RNN model\n",
        "embedding_vecor_length = 32\n",
        "model = Sequential()\n",
        "model.add(Embedding(20000, embedding_vecor_length, input_length=max_review_length))\n",
        "model.add(LSTM(100))\n",
        "model.add(Dense(1, activation='sigmoid'))\n",
        "model.compile(loss='binary_crossentropy', optimizer='adam', metrics=['accuracy'])\n",
        "print(model.summary())"
      ],
      "metadata": {
        "colab": {
          "base_uri": "https://localhost:8080/"
        },
        "id": "0njCVXlmEJYd",
        "outputId": "fe19b93c-88ec-47af-cb93-19a18f4c166a"
      },
      "execution_count": null,
      "outputs": [
        {
          "output_type": "stream",
          "name": "stdout",
          "text": [
            "Model: \"sequential\"\n",
            "_________________________________________________________________\n",
            " Layer (type)                Output Shape              Param #   \n",
            "=================================================================\n",
            " embedding (Embedding)       (None, 600, 32)           640000    \n",
            "                                                                 \n",
            " lstm (LSTM)                 (None, 100)               53200     \n",
            "                                                                 \n",
            " dense (Dense)               (None, 1)                 101       \n",
            "                                                                 \n",
            "=================================================================\n",
            "Total params: 693,301\n",
            "Trainable params: 693,301\n",
            "Non-trainable params: 0\n",
            "_________________________________________________________________\n",
            "None\n"
          ]
        }
      ]
    },
    {
      "cell_type": "code",
      "source": [
        "# Train the model\n",
        "model.fit(x_train, y_train, validation_data=(x_test, y_test), epochs=10, batch_size=64)\n",
        "\n",
        "# Evaluate the model\n",
        "scores = model.evaluate(x_test, y_test, verbose=0)\n",
        "print(\"Accuracy: %.2f%%\" % (scores[1]*100))"
      ],
      "metadata": {
        "colab": {
          "base_uri": "https://localhost:8080/"
        },
        "id": "8wCMq_z8EMYT",
        "outputId": "0ce82e83-62b7-43f1-aaf6-6308ff27c92b"
      },
      "execution_count": null,
      "outputs": [
        {
          "output_type": "stream",
          "name": "stdout",
          "text": [
            "Epoch 1/10\n",
            "391/391 [==============================] - 82s 191ms/step - loss: 0.4518 - accuracy: 0.7799 - val_loss: 0.3289 - val_accuracy: 0.8634\n",
            "Epoch 2/10\n",
            "391/391 [==============================] - 42s 108ms/step - loss: 0.2343 - accuracy: 0.9106 - val_loss: 0.3176 - val_accuracy: 0.8709\n",
            "Epoch 3/10\n",
            "391/391 [==============================] - 34s 86ms/step - loss: 0.1643 - accuracy: 0.9409 - val_loss: 0.3469 - val_accuracy: 0.8542\n",
            "Epoch 4/10\n",
            "391/391 [==============================] - 25s 64ms/step - loss: 0.1216 - accuracy: 0.9579 - val_loss: 0.3884 - val_accuracy: 0.8558\n",
            "Epoch 5/10\n",
            "391/391 [==============================] - 25s 63ms/step - loss: 0.1563 - accuracy: 0.9396 - val_loss: 0.4282 - val_accuracy: 0.8560\n",
            "Epoch 6/10\n",
            "391/391 [==============================] - 22s 56ms/step - loss: 0.0888 - accuracy: 0.9688 - val_loss: 0.4447 - val_accuracy: 0.8533\n",
            "Epoch 7/10\n",
            "391/391 [==============================] - 19s 48ms/step - loss: 0.0554 - accuracy: 0.9825 - val_loss: 0.5345 - val_accuracy: 0.8583\n",
            "Epoch 8/10\n",
            "391/391 [==============================] - 19s 50ms/step - loss: 0.1500 - accuracy: 0.9376 - val_loss: 0.5617 - val_accuracy: 0.8580\n",
            "Epoch 9/10\n",
            "391/391 [==============================] - 17s 45ms/step - loss: 0.0539 - accuracy: 0.9825 - val_loss: 0.5606 - val_accuracy: 0.8538\n",
            "Epoch 10/10\n",
            "391/391 [==============================] - 17s 45ms/step - loss: 0.0493 - accuracy: 0.9838 - val_loss: 0.5498 - val_accuracy: 0.8470\n",
            "Accuracy: 84.70%\n"
          ]
        }
      ]
    },
    {
      "cell_type": "code",
      "source": [
        "# Convert a new review into a format the model can understand\n",
        "new_review = \"This movie is really good I enjoyed it a lot\"\n",
        "new_review = [imdb.get_word_index()[word] for word in new_review.lower().split()]\n",
        "\n",
        "new_review = sequence.pad_sequences([new_review], maxlen=max_review_length)\n",
        "\n",
        "# Use the model to predict the sentiment of the new review\n",
        "prediction = model.predict(new_review)\n",
        "\n",
        "# Print the prediction\n",
        "if prediction > 0.5:\n",
        "    print(\"Positive review\")\n",
        "else:\n",
        "    print(\"Negative review\")"
      ],
      "metadata": {
        "colab": {
          "base_uri": "https://localhost:8080/"
        },
        "id": "K73q0Pg2EPlW",
        "outputId": "de4f811b-80fa-4b86-d1c4-5e306c5c0983"
      },
      "execution_count": null,
      "outputs": [
        {
          "output_type": "stream",
          "name": "stdout",
          "text": [
            "Downloading data from https://storage.googleapis.com/tensorflow/tf-keras-datasets/imdb_word_index.json\n",
            "1641221/1641221 [==============================] - 0s 0us/step\n",
            "1/1 [==============================] - 0s 381ms/step\n",
            "Positive review\n"
          ]
        }
      ]
    }
  ]
}